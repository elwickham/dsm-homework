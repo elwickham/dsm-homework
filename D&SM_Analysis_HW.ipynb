{
  "nbformat": 4,
  "nbformat_minor": 0,
  "metadata": {
    "colab": {
      "name": "D&SM Analysis HW.ipynb",
      "provenance": [],
      "mount_file_id": "1hg6QcwyL1yTEbA6MCs2gYyEno050NQbr",
      "authorship_tag": "ABX9TyP1kpeM0WOk2baBcJI1Mu/d",
      "include_colab_link": true
    },
    "kernelspec": {
      "display_name": "Python 3",
      "name": "python3"
    },
    "language_info": {
      "name": "python"
    }
  },
  "cells": [
    {
      "cell_type": "markdown",
      "metadata": {
        "id": "view-in-github",
        "colab_type": "text"
      },
      "source": [
        "<a href=\"https://colab.research.google.com/github/elwickham/dsm-homework/blob/main/D%26SM_Analysis_HW.ipynb\" target=\"_parent\"><img src=\"https://colab.research.google.com/assets/colab-badge.svg\" alt=\"Open In Colab\"/></a>"
      ]
    },
    {
      "cell_type": "markdown",
      "metadata": {
        "id": "5bjlKsOTlxHV"
      },
      "source": [
        "## Week 2: Dataframes in Python with Pandas\n",
        "\n",
        "\n",
        "Elissa Nakajima(Wickham)\n",
        "1M181086-1"
      ]
    },
    {
      "cell_type": "code",
      "metadata": {
        "id": "kdVHYQudJdj4"
      },
      "source": [
        "#create two lists of integers\n",
        "list1 = [1, 3, 11, 14, 67, 88]\n",
        "list2 = [2, 4, 18, 22, 25, 56]\n",
        "\n",
        "#make these two lists into two separate series\n",
        "import pandas as pd\n",
        "series1 = pd.Series(list1)\n",
        "series2 = pd.Series(list2)\n",
        "\n",
        "#merge the series\n",
        "df = pd.concat([series1, series2], axis = 1) #axis = 0) \n",
        "#do you want to merge them on column or row? 0 and 1 look different, merging lengthwise vs merging row wise\n",
        "#WHEN MERGING SERIES YOU WANNA USE AXIS 1\n",
        "df.head()"
      ],
      "execution_count": null,
      "outputs": []
    },
    {
      "cell_type": "code",
      "metadata": {
        "id": "b4nBoxR4dSeQ"
      },
      "source": [
        "#read in trump file as pandas dataframe\n",
        "trump = pd.read_csv('/content/drive/MyDrive/trump_insult_tweets_2014_to_2021.csv')\n",
        "trumpframe = pd.DataFrame(trump)\n",
        "#trumpframe.head()\n",
        "\n",
        "#set first column as new index\n",
        "#unnamed 0 is an ugly name omg, number is new first column name now, change column name and set index\n",
        "trumpframe2 = trumpframe.rename(columns={'Unnamed: 0': 'number'}).set_index('number')\n",
        "trumpframe2.head()"
      ],
      "execution_count": null,
      "outputs": []
    },
    {
      "cell_type": "code",
      "metadata": {
        "id": "0BW9guj4hSTx"
      },
      "source": [
        "#access cell in 1274th row in insult column\n",
        "trumpframe2.loc[1274,'insult']"
      ],
      "execution_count": null,
      "outputs": []
    },
    {
      "cell_type": "code",
      "metadata": {
        "id": "hnVLa7ZtiA7B"
      },
      "source": [
        "#value of cell in 8\n",
        "trumpframe2.values[8]"
      ],
      "execution_count": null,
      "outputs": []
    },
    {
      "cell_type": "code",
      "metadata": {
        "id": "zVuK7lP2iF-j"
      },
      "source": [
        "#use range with a for loop to iterate through even integers up to and including 100 starting from and including 1. \n",
        "#use conditionals (if statements) to create a new list from this information of the integers that are divisible by 4. \n",
        "#use loc to access the rows with the indexes in the list you just created and save it as a new dataframe.\n",
        "\n",
        "newlist = []\n",
        "#newlist = [a for a in range (1, 101) if a % 4 == 0]\n",
        "\n",
        "for a in range(1, 101):\n",
        "  if a % 4 == 0:\n",
        "    newlist.append(a)\n",
        "#print(newlist)\n",
        "\n",
        "trumpframe3 = trumpframe2.loc[newlist]\n",
        "trumpframe3.head()"
      ],
      "execution_count": null,
      "outputs": []
    },
    {
      "cell_type": "code",
      "metadata": {
        "id": "vFwmDCEFEs0t"
      },
      "source": [
        "dfdict = {index_label: row_series for (index_label, row_series) in trumpframe2.iterrows() if index_label in newlist}\n",
        "newdf = pd.DataFrame(dfdict).T\n",
        "\n",
        "#.T for transpose, really important when dealing with dataframes\n",
        "#from matrices, sometimes you need to switch rows and columns in matrices in algebra\n",
        "## when we're transposing a dataframe, the concept is really similar\n",
        "## if you try it without the .T, it looks wrong\n",
        "\n",
        "newdf.head()"
      ],
      "execution_count": null,
      "outputs": []
    },
    {
      "cell_type": "markdown",
      "metadata": {
        "id": "ekexUKUpCVfu"
      },
      "source": [
        "## Week 3: Manipulating Data With Pandas"
      ]
    },
    {
      "cell_type": "code",
      "metadata": {
        "id": "vHISFI3eClAW"
      },
      "source": [
        "#how many dimensions are there in this array?\n",
        "import numpy as np\n",
        "arr = np.array([[[[1,2,3,4],[5,6,7,8],[9,10,11,12],[13,14,15,16]]]])\n",
        "print(arr.ndim)"
      ],
      "execution_count": null,
      "outputs": []
    },
    {
      "cell_type": "code",
      "metadata": {
        "id": "EpE5LAaWGvyW"
      },
      "source": [
        "#read in the same Trump insults file as last week. \n",
        "#similarly to last week set the first column as index. \n",
        "#can this be done at the same time you read the file in? \n",
        "\n",
        "import pandas as pd\n",
        "insult = pd.read_csv('/content/drive/MyDrive/trump_insult_tweets_2014_to_2021.csv',index_col = 0)\n",
        "insultfr = pd.DataFrame(insult)\n",
        "insultfr.head()"
      ],
      "execution_count": null,
      "outputs": []
    },
    {
      "cell_type": "code",
      "metadata": {
        "id": "GzsexmxHH7M_"
      },
      "source": [
        "#access the 3456th row in the target column using both loc and iloc. how does the syntax change?\n",
        "insultfr.values[3456]"
      ],
      "execution_count": null,
      "outputs": []
    },
    {
      "cell_type": "code",
      "metadata": {
        "id": "VeY1gwKNJQGm"
      },
      "source": [
        "insultfr.loc[3457, 'target']"
      ],
      "execution_count": null,
      "outputs": []
    },
    {
      "cell_type": "code",
      "metadata": {
        "id": "anIOkyy3I7vU"
      },
      "source": [
        "insultfr.iloc[3456, 1]"
      ],
      "execution_count": null,
      "outputs": []
    },
    {
      "cell_type": "code",
      "metadata": {
        "id": "xMNF_oEbKR_k"
      },
      "source": [
        "#save the Boolean value of the check if the data is after January 1, 2016 in a new column. \n",
        "#this should result in a dataframe identical to the old one, \n",
        "#but with an extra column with the value True if the date is after 2016 and False if it is before 2016.type\n",
        "\n",
        "insultfr['2016&after'] = insultfr['date'] > '2016-01-01'\n",
        "insultfr.head(-1)\n"
      ],
      "execution_count": null,
      "outputs": []
    },
    {
      "cell_type": "code",
      "metadata": {
        "id": "NpfHrLJw5aYh"
      },
      "source": [
        "#create one more new colulmn that has the values True/False \n",
        "#depending on whether the date is after 2014 AND the insult is \"Dumb\".\n",
        "\n",
        "insultfr['dumb&after2014'] = (insultfr['date'] >= '2014-01-01') & (insultfr['insult'] == \"dumb\")\n",
        "insultfr.head(-1)"
      ],
      "execution_count": null,
      "outputs": []
    },
    {
      "cell_type": "code",
      "metadata": {
        "id": "RcvvicWy5mhp"
      },
      "source": [
        "insultfr.loc[insultfr.insult == 'dumb']"
      ],
      "execution_count": null,
      "outputs": []
    },
    {
      "cell_type": "code",
      "metadata": {
        "id": "Dil8Iej25zR9"
      },
      "source": [
        "#how many instances of Trump calling someone \"dumb\" are there in the data regardless of date?\n",
        "instances = len(list(insultfr.loc[insultfr.insult == 'dumb']))\n",
        "print(instances)"
      ],
      "execution_count": null,
      "outputs": []
    },
    {
      "cell_type": "code",
      "metadata": {
        "id": "RSLJAWEAEYeQ"
      },
      "source": [
        "#how many different insults does Trump use in this data?\n",
        "x = insultfr['insult'].value_counts()\n",
        "\n",
        "print(len(x))"
      ],
      "execution_count": null,
      "outputs": []
    },
    {
      "cell_type": "code",
      "metadata": {
        "id": "zLJjDDHX_k4v"
      },
      "source": [
        "#how many different entities (people, organizations, etc) does he insult?\n",
        "#who does he insult the most?\n",
        "\n",
        "y = insultfr['target'].value_counts()\n",
        "print(len(y))"
      ],
      "execution_count": null,
      "outputs": []
    },
    {
      "cell_type": "code",
      "metadata": {
        "id": "Dv1GJ9BQEbZ-"
      },
      "source": [
        "print(insultfr.target.mode())"
      ],
      "execution_count": null,
      "outputs": []
    },
    {
      "cell_type": "markdown",
      "metadata": {
        "id": "e5Zs6txLOVFt"
      },
      "source": [
        "## Week 4: Grouping and sorting with pandas"
      ]
    },
    {
      "cell_type": "code",
      "metadata": {
        "id": "nZGdculROkz8"
      },
      "source": [
        "#Read in the student exam performance csv file and set the first column as index\n",
        "\n",
        "import pandas as pd\n",
        "import numpy as np\n",
        "\n",
        "scores = pd.read_csv('/content/Student Performance new.csv', index_col = 0)\n",
        "scores.head()"
      ],
      "execution_count": null,
      "outputs": []
    },
    {
      "cell_type": "code",
      "metadata": {
        "id": "YYyF63mJPjgC"
      },
      "source": [
        "scoresR = scores.rename(columns={\"race/ethnicity\": \"race\",\"parental level of education\":\"paredu\",\"test preparation course\":\"prep\"})\n",
        "scoresR = scoresR.rename(columns={\"math percentage\": \"math\",\"reading score percentage\":\"reading\",\"writing score percentage\":\"writing\"})\n",
        "\n",
        "#Use groupby to sort the data to show the mean (average) math score for each level of parental education  \n",
        "##Which level has the highest vs. lowest scores? \n",
        "\n",
        "scoresR.groupby('paredu').math.mean() "
      ],
      "execution_count": null,
      "outputs": []
    },
    {
      "cell_type": "code",
      "metadata": {
        "id": "VlcRC-COQ2Pw"
      },
      "source": [
        "##Does the educational background of the parents have the same influence on reading and writing scores?\n",
        "\n",
        "scoresR.groupby('paredu').reading.mean() "
      ],
      "execution_count": null,
      "outputs": []
    },
    {
      "cell_type": "code",
      "metadata": {
        "id": "9pVFQHxQRJsr"
      },
      "source": [
        "scoresR.groupby('paredu').writing.mean() "
      ],
      "execution_count": null,
      "outputs": []
    },
    {
      "cell_type": "code",
      "metadata": {
        "id": "kddU6n6tRazy"
      },
      "source": [
        "##Adjust the race values for parental education. \n",
        "##That is, sort by parental education and then race,and then get the aggregate values (len, min, max, mean, and standard devation)\n",
        "\n",
        "scores2 = scoresR.groupby([\"paredu\",\"race\"]).reading.agg([len, min, max,np.std,np.mean])\n",
        "scores2"
      ],
      "execution_count": null,
      "outputs": []
    },
    {
      "cell_type": "code",
      "metadata": {
        "id": "wCgbrcazRxAP"
      },
      "source": [
        "scores3 = scoresR.groupby([\"paredu\",\"race\"]).writing.agg([len, min, max,np.std,np.mean])\n",
        "scores3"
      ],
      "execution_count": null,
      "outputs": []
    },
    {
      "cell_type": "code",
      "metadata": {
        "id": "4CZEoKrlSlgp"
      },
      "source": [
        " ##Extra: Check for statistical significance of gender on reading scores.\n",
        " scores4 = scoresR.groupby([\"sex\"]).reading.agg([len, min, max,np.std,np.mean])\n",
        " scores4"
      ],
      "execution_count": null,
      "outputs": []
    },
    {
      "cell_type": "code",
      "metadata": {
        "id": "NKskN_78GRry"
      },
      "source": [
        "!pip install researchpy\n",
        "!pip install scipy"
      ],
      "execution_count": null,
      "outputs": []
    },
    {
      "cell_type": "code",
      "metadata": {
        "id": "OpQm9UB0GeDv"
      },
      "source": [
        "import researchpy as rp\n",
        "import scipy as sp"
      ],
      "execution_count": null,
      "outputs": []
    },
    {
      "cell_type": "code",
      "metadata": {
        "id": "jtMnBwXlGkH_"
      },
      "source": [
        "import scipy.stats as stats\n",
        "stats.ttest_ind(a = scoresR.reading[scoresR.sex == 'F'], b = scoresR.reading[scoresR.sex == 'M'])"
      ],
      "execution_count": null,
      "outputs": []
    },
    {
      "cell_type": "code",
      "metadata": {
        "id": "L9eQRobFSlaa"
      },
      "source": [
        "## Extra: Check for statistical significance of parents' college degree (BA or MA) on math scores. \n",
        "##(Hint: you can use from scipy.stats import ttest_ind for t-tests) \n",
        "\n",
        "stats.ttest_ind(a = scoresR.math[scoresR.paredu == \"bachelor's degree\"], b = scoresR.math[scoresR.paredu == \"master's degree\"])"
      ],
      "execution_count": null,
      "outputs": []
    },
    {
      "cell_type": "markdown",
      "metadata": {
        "id": "X1vxwAN1hVSW"
      },
      "source": [
        "##Week 5: Visualization"
      ]
    },
    {
      "cell_type": "code",
      "metadata": {
        "id": "S9qs7r-LEHmd"
      },
      "source": [
        "#Import seaborn and matplotlib in addition to pandas and numpy.\n",
        "\n",
        "import pandas as pd\n",
        "import numpy as np\n",
        "import seaborn as sns                       \n",
        "import matplotlib.pyplot as plt  "
      ],
      "execution_count": null,
      "outputs": []
    },
    {
      "cell_type": "code",
      "metadata": {
        "id": "nNaF9nRIDArM"
      },
      "source": [
        " #scores = pd.read_csv('/content/Student Performance new.csv', index_col = 0)"
      ],
      "execution_count": null,
      "outputs": []
    },
    {
      "cell_type": "code",
      "metadata": {
        "id": "Na21RlUIi93c"
      },
      "source": [
        "#Use the binary data from last week with the parents' level of education to check for a correlation with math, reading, and writing scores. \n",
        "#Your correlation matrix should be a 4x4 matrix. Pick a color scheme that you like and that we haven't used in class yet. \n",
        "\n",
        "scores = scoresR\n",
        "scores['paredu'] = scores['paredu'].astype('category').cat.codes\n",
        "\n",
        "s = scores.corr()\n",
        "plt.figure(figsize=(10,5))\n",
        "sns.heatmap(s, cmap = \"Pastel1\", annot = True)\n",
        "s"
      ],
      "execution_count": null,
      "outputs": []
    },
    {
      "cell_type": "code",
      "metadata": {
        "id": "16uwXcw9hyI6"
      },
      "source": [
        "#Create a scatterplot that shows the parents' level of education on the y axis and the math score on the x axis. \n",
        "#Why does this scatterplot not work as well as it might? \n",
        "\n",
        "plt.figure(figsize=(10,5))\n",
        "sns.scatterplot(data = scores, x = 'math', y= 'paredu')\n",
        "#scatterplot looks bad when math is on x-axis; hard to read"
      ],
      "execution_count": null,
      "outputs": []
    },
    {
      "cell_type": "code",
      "metadata": {
        "id": "sJ7D_ZM6SJ2C"
      },
      "source": [
        "##Can you think of a better visualization to present this data? \n",
        "\n",
        "plt.figure(figsize=(10,5))\n",
        "plt.xticks([0, 1, 2, 3, 4, 5], [\"associate's\", \"bachelor's\", \"high school\", \"master's\", \"some college\", \"some high school\"])\n",
        "sns.scatterplot(data = scores, x = 'paredu', y= 'math', hue = 'lunch')\n",
        "\n",
        "#easier to see with paredu on x-axis, but still hard to see"
      ],
      "execution_count": null,
      "outputs": []
    },
    {
      "cell_type": "code",
      "metadata": {
        "id": "dwp0Guu8Eaqq"
      },
      "source": [
        "#boxplot with paredu on x-axis?\n",
        "plt.figure(figsize=(15,10))\n",
        "sns.boxplot(data = scores , x = 'paredu', y = 'math')\n",
        "plt.xticks([0, 1, 2, 3, 4, 5], [\"associate's\", \"bachelor's\", \"high school\", \"master's\", \"some college\", \"some high school\"])"
      ],
      "execution_count": null,
      "outputs": []
    },
    {
      "cell_type": "code",
      "metadata": {
        "id": "Eqrs3mKAFs3k"
      },
      "source": [
        "##Create dummy scores for the lunch data \n",
        "new_scores = pd.get_dummies(scores, columns = ['lunch'], drop_first = True, prefix = 'Dummy', prefix_sep =\"*\" )\n",
        "\n",
        "#dummy score is 0 when it's discounted or free\n",
        "\n",
        "#and check for a correlation with reading scores.\n",
        "\n",
        "scores2 = new_scores.corr()\n",
        "scores2.style.background_gradient(axis=0)\n",
        "\n",
        "#plt.figure(figsize=(12,8))\n",
        "#plt.xticks([0, 1, 2, 3, 4, 5], [\"associate's\", \"bachelor's\", \"high school\", \"master's\", \"some college\", \"some high school\"])\n",
        "#sns.scatterplot(data = scores, x = 'paredu', y= 'reading', hue = 'lunch')"
      ],
      "execution_count": null,
      "outputs": []
    },
    {
      "cell_type": "markdown",
      "metadata": {
        "id": "uuXrrADRT9Va"
      },
      "source": [
        "##Week 6: Data Scraping"
      ]
    },
    {
      "cell_type": "code",
      "metadata": {
        "id": "irTmv8WfUAjN"
      },
      "source": [
        "#Question 1: Read in the JSON file on Moodle.\n",
        "import json \n",
        "import pandas as pd \n",
        "from pandas import json_normalize\n",
        "\n",
        "with open('/content/raw_nyc_phil.json') as f:\n",
        "  d = json.load(f) "
      ],
      "execution_count": null,
      "outputs": []
    },
    {
      "cell_type": "code",
      "metadata": {
        "id": "OOH8kJg-UHvZ"
      },
      "source": [
        "#Question 2: Flatten the JSON file until there's nothing to flatten anymore (keep all the data in the same dataframe).\n",
        "nycphil = json_normalize(d['programs'])\n",
        "nycphil.head(5)\n",
        "\n",
        "#Question 3: How many times did you flatten it?\n",
        "## 3 times (works, soloists, concerts data)"
      ],
      "execution_count": null,
      "outputs": []
    },
    {
      "cell_type": "code",
      "metadata": {
        "id": "KhDsDBxyGUyB"
      },
      "source": [
        "works_data = json_normalize(data=d['programs'], record_path= 'works', \n",
        "                            meta=['id', 'orchestra','programID', 'season'])\n",
        "works_data.head(5)"
      ],
      "execution_count": null,
      "outputs": []
    },
    {
      "cell_type": "code",
      "metadata": {
        "id": "koz53pwLDYtZ"
      },
      "source": [
        "soloist_data = json_normalize(data=d['programs'], record_path= ['works','soloists'], \n",
        "                              meta=['id','orchestra','programID', 'season'])\n",
        "soloist_data.head(5)"
      ],
      "execution_count": null,
      "outputs": []
    },
    {
      "cell_type": "code",
      "metadata": {
        "id": "1UVgFdOs6jAp"
      },
      "source": [
        "concerts_data = json_normalize(data=d['programs'], record_path='concerts', \n",
        "                            meta=['id', 'orchestra','programID', 'season'])\n",
        "concerts_data.head(5)"
      ],
      "execution_count": null,
      "outputs": []
    },
    {
      "cell_type": "code",
      "metadata": {
        "id": "jek49y0hUNoy"
      },
      "source": [
        "#Question 4: Choose a video on Youtube and scrape the comments from that video.\n",
        "!pip install selenium\n",
        "!apt-get update \n",
        "!apt install chromium-chromedriver\n",
        "!cp /usr/lib/chromium-browser/chromedriver /usr/bin\n",
        "\n",
        "import sys\n",
        "sys.path.insert(0,'/usr/lib/chromium-browser/chromedriver')\n",
        "from selenium import webdriver\n",
        "chrome_options = webdriver.ChromeOptions()\n",
        "chrome_options.add_argument('--headless')\n",
        "chrome_options.add_argument('--no-sandbox')\n",
        "chrome_options.add_argument('--disable-dev-shm-usage')\n",
        "wd = webdriver.Chrome('chromedriver',chrome_options=chrome_options)"
      ],
      "execution_count": null,
      "outputs": []
    },
    {
      "cell_type": "code",
      "metadata": {
        "id": "cP1kAiIpVk3L"
      },
      "source": [
        "import time\n",
        "from selenium.webdriver import Chrome\n",
        "from selenium.webdriver.common.by import By\n",
        "from selenium.webdriver.common.keys import Keys\n",
        "from selenium.webdriver.support.ui import WebDriverWait\n",
        "from selenium.webdriver.support import expected_conditions as EC"
      ],
      "execution_count": null,
      "outputs": []
    },
    {
      "cell_type": "code",
      "metadata": {
        "id": "URh0AvTpVnuU"
      },
      "source": [
        "data = []\n",
        "wait = WebDriverWait(wd, 15)\n",
        "wd.get('https://www.youtube.com/watch?v=E_htODUuPlc') \n",
        "\n",
        "for item in range(200): \n",
        " wait.until(EC.visibility_of_element_located((By.TAG_NAME, \"body\"))).send_keys(Keys.END) \n",
        "\n",
        "for comment in wait.until(EC.presence_of_all_elements_located((By.CSS_SELECTOR, \"#content\"))):\n",
        "  data.append(comment.text)"
      ],
      "execution_count": null,
      "outputs": []
    },
    {
      "cell_type": "code",
      "metadata": {
        "id": "wDiObPerV2kP"
      },
      "source": [
        "import pandas as pd   \n",
        "comments = pd.DataFrame(data, columns=['comment'])\n",
        "\n",
        "#Question 5: What file format is the data?\n",
        "type(data)"
      ],
      "execution_count": null,
      "outputs": []
    },
    {
      "cell_type": "code",
      "metadata": {
        "id": "28loa5A2UQ96"
      },
      "source": [
        "#BONUS 6: Tokenize the comments.\n",
        "\n",
        "comments2 = comments['comment'].to_string()\n",
        "import nltk, re, pprint\n",
        "from nltk import word_tokenize\n",
        "\n",
        "nltk.download('punkt')\n",
        "tokens = word_tokenize(comments2)"
      ],
      "execution_count": null,
      "outputs": []
    },
    {
      "cell_type": "code",
      "metadata": {
        "id": "cW86i2HtUwQX"
      },
      "source": [
        "#BONUS 7: How many tokens are there?\n",
        "print(f'There are {len(tokens)} tokens!')"
      ],
      "execution_count": null,
      "outputs": []
    },
    {
      "cell_type": "markdown",
      "metadata": {
        "id": "_kyfMMmg9UX1"
      },
      "source": [
        "##Week 7 Exploratory Data Analysis\n",
        "***No HW***"
      ]
    },
    {
      "cell_type": "markdown",
      "metadata": {
        "id": "Siwdh8pK9P_n"
      },
      "source": [
        "##Week 8 Take Home Exam"
      ]
    },
    {
      "cell_type": "code",
      "metadata": {
        "colab": {
          "base_uri": "https://localhost:8080/"
        },
        "id": "1dxzPPIg9cbU",
        "outputId": "3299f785-fb4b-44fd-846a-6ff74479bebf"
      },
      "source": [
        "#Read in the ramen ratings file as a dataframe\n",
        "#set appropriate index and column names and print out an overview of the dataframe\n",
        "\n",
        "import pandas as pd\n",
        "import numpy as np\n",
        "\n",
        "data = pd.read_csv('ramen-ratings.csv', index_col = 0)\n",
        "ramen = pd.DataFrame(data)\n",
        "ramen = ramen.rename(columns = {'Stars': 'Rating'})\n",
        "\n",
        "print(ramen.info())"
      ],
      "execution_count": null,
      "outputs": [
        {
          "output_type": "stream",
          "name": "stdout",
          "text": [
            "<class 'pandas.core.frame.DataFrame'>\n",
            "Int64Index: 2580 entries, 2580 to 1\n",
            "Data columns (total 6 columns):\n",
            " #   Column   Non-Null Count  Dtype \n",
            "---  ------   --------------  ----- \n",
            " 0   Brand    2580 non-null   object\n",
            " 1   Variety  2580 non-null   object\n",
            " 2   Style    2578 non-null   object\n",
            " 3   Country  2580 non-null   object\n",
            " 4   Rating   2580 non-null   object\n",
            " 5   Top Ten  41 non-null     object\n",
            "dtypes: object(6)\n",
            "memory usage: 141.1+ KB\n",
            "None\n"
          ]
        }
      ]
    },
    {
      "cell_type": "code",
      "metadata": {
        "colab": {
          "base_uri": "https://localhost:8080/",
          "height": 235
        },
        "id": "5vZUSf9SY6nd",
        "outputId": "29cdfbc4-94a1-4d73-d571-362248e61226"
      },
      "source": [
        "ramen.head()"
      ],
      "execution_count": null,
      "outputs": [
        {
          "output_type": "execute_result",
          "data": {
            "text/html": [
              "<div>\n",
              "<style scoped>\n",
              "    .dataframe tbody tr th:only-of-type {\n",
              "        vertical-align: middle;\n",
              "    }\n",
              "\n",
              "    .dataframe tbody tr th {\n",
              "        vertical-align: top;\n",
              "    }\n",
              "\n",
              "    .dataframe thead th {\n",
              "        text-align: right;\n",
              "    }\n",
              "</style>\n",
              "<table border=\"1\" class=\"dataframe\">\n",
              "  <thead>\n",
              "    <tr style=\"text-align: right;\">\n",
              "      <th></th>\n",
              "      <th>Brand</th>\n",
              "      <th>Variety</th>\n",
              "      <th>Style</th>\n",
              "      <th>Country</th>\n",
              "      <th>Rating</th>\n",
              "      <th>Top Ten</th>\n",
              "    </tr>\n",
              "    <tr>\n",
              "      <th>Review #</th>\n",
              "      <th></th>\n",
              "      <th></th>\n",
              "      <th></th>\n",
              "      <th></th>\n",
              "      <th></th>\n",
              "      <th></th>\n",
              "    </tr>\n",
              "  </thead>\n",
              "  <tbody>\n",
              "    <tr>\n",
              "      <th>2580</th>\n",
              "      <td>New Touch</td>\n",
              "      <td>T's Restaurant Tantanmen</td>\n",
              "      <td>Cup</td>\n",
              "      <td>Japan</td>\n",
              "      <td>3.75</td>\n",
              "      <td>NaN</td>\n",
              "    </tr>\n",
              "    <tr>\n",
              "      <th>2579</th>\n",
              "      <td>Just Way</td>\n",
              "      <td>Noodles Spicy Hot Sesame Spicy Hot Sesame Guan...</td>\n",
              "      <td>Pack</td>\n",
              "      <td>Taiwan</td>\n",
              "      <td>1</td>\n",
              "      <td>NaN</td>\n",
              "    </tr>\n",
              "    <tr>\n",
              "      <th>2578</th>\n",
              "      <td>Nissin</td>\n",
              "      <td>Cup Noodles Chicken Vegetable</td>\n",
              "      <td>Cup</td>\n",
              "      <td>USA</td>\n",
              "      <td>2.25</td>\n",
              "      <td>NaN</td>\n",
              "    </tr>\n",
              "    <tr>\n",
              "      <th>2577</th>\n",
              "      <td>Wei Lih</td>\n",
              "      <td>GGE Ramen Snack Tomato Flavor</td>\n",
              "      <td>Pack</td>\n",
              "      <td>Taiwan</td>\n",
              "      <td>2.75</td>\n",
              "      <td>NaN</td>\n",
              "    </tr>\n",
              "    <tr>\n",
              "      <th>2576</th>\n",
              "      <td>Ching's Secret</td>\n",
              "      <td>Singapore Curry</td>\n",
              "      <td>Pack</td>\n",
              "      <td>India</td>\n",
              "      <td>3.75</td>\n",
              "      <td>NaN</td>\n",
              "    </tr>\n",
              "  </tbody>\n",
              "</table>\n",
              "</div>"
            ],
            "text/plain": [
              "                   Brand  ... Top Ten\n",
              "Review #                  ...        \n",
              "2580           New Touch  ...     NaN\n",
              "2579            Just Way  ...     NaN\n",
              "2578              Nissin  ...     NaN\n",
              "2577             Wei Lih  ...     NaN\n",
              "2576      Ching's Secret  ...     NaN\n",
              "\n",
              "[5 rows x 6 columns]"
            ]
          },
          "metadata": {},
          "execution_count": 60
        }
      ]
    },
    {
      "cell_type": "code",
      "metadata": {
        "colab": {
          "base_uri": "https://localhost:8080/"
        },
        "id": "rQrD3NF99p-L",
        "outputId": "f222b8af-c525-435d-86f9-5b3d176aa2da"
      },
      "source": [
        "#Print a subset of the dataframe that only has the information of the brand of ramen and its score \n",
        "\n",
        "x = ramen[['Brand', 'Rating']]\n",
        "print(x)"
      ],
      "execution_count": null,
      "outputs": [
        {
          "output_type": "stream",
          "name": "stdout",
          "text": [
            "                   Brand Rating\n",
            "Review #                       \n",
            "2580           New Touch   3.75\n",
            "2579            Just Way      1\n",
            "2578              Nissin   2.25\n",
            "2577             Wei Lih   2.75\n",
            "2576      Ching's Secret   3.75\n",
            "...                  ...    ...\n",
            "5                  Vifon    3.5\n",
            "4                Wai Wai      1\n",
            "3                Wai Wai      2\n",
            "2                Wai Wai      2\n",
            "1               Westbrae    0.5\n",
            "\n",
            "[2580 rows x 2 columns]\n"
          ]
        }
      ]
    },
    {
      "cell_type": "code",
      "metadata": {
        "id": "mhhWrsOrI5g2",
        "colab": {
          "base_uri": "https://localhost:8080/",
          "height": 235
        },
        "outputId": "2027cdf6-14b0-4497-9a8d-7430693ce641"
      },
      "source": [
        "#Oh no, it seems the last column is full of null values. Convert these to NaN.\n",
        "\n",
        "ramen.fillna(value = np.nan)\n",
        "ramen.head()"
      ],
      "execution_count": null,
      "outputs": [
        {
          "output_type": "execute_result",
          "data": {
            "text/html": [
              "<div>\n",
              "<style scoped>\n",
              "    .dataframe tbody tr th:only-of-type {\n",
              "        vertical-align: middle;\n",
              "    }\n",
              "\n",
              "    .dataframe tbody tr th {\n",
              "        vertical-align: top;\n",
              "    }\n",
              "\n",
              "    .dataframe thead th {\n",
              "        text-align: right;\n",
              "    }\n",
              "</style>\n",
              "<table border=\"1\" class=\"dataframe\">\n",
              "  <thead>\n",
              "    <tr style=\"text-align: right;\">\n",
              "      <th></th>\n",
              "      <th>Brand</th>\n",
              "      <th>Variety</th>\n",
              "      <th>Style</th>\n",
              "      <th>Country</th>\n",
              "      <th>Rating</th>\n",
              "      <th>Top Ten</th>\n",
              "    </tr>\n",
              "    <tr>\n",
              "      <th>Review #</th>\n",
              "      <th></th>\n",
              "      <th></th>\n",
              "      <th></th>\n",
              "      <th></th>\n",
              "      <th></th>\n",
              "      <th></th>\n",
              "    </tr>\n",
              "  </thead>\n",
              "  <tbody>\n",
              "    <tr>\n",
              "      <th>2580</th>\n",
              "      <td>New Touch</td>\n",
              "      <td>T's Restaurant Tantanmen</td>\n",
              "      <td>Cup</td>\n",
              "      <td>Japan</td>\n",
              "      <td>3.75</td>\n",
              "      <td>NaN</td>\n",
              "    </tr>\n",
              "    <tr>\n",
              "      <th>2579</th>\n",
              "      <td>Just Way</td>\n",
              "      <td>Noodles Spicy Hot Sesame Spicy Hot Sesame Guan...</td>\n",
              "      <td>Pack</td>\n",
              "      <td>Taiwan</td>\n",
              "      <td>1</td>\n",
              "      <td>NaN</td>\n",
              "    </tr>\n",
              "    <tr>\n",
              "      <th>2578</th>\n",
              "      <td>Nissin</td>\n",
              "      <td>Cup Noodles Chicken Vegetable</td>\n",
              "      <td>Cup</td>\n",
              "      <td>USA</td>\n",
              "      <td>2.25</td>\n",
              "      <td>NaN</td>\n",
              "    </tr>\n",
              "    <tr>\n",
              "      <th>2577</th>\n",
              "      <td>Wei Lih</td>\n",
              "      <td>GGE Ramen Snack Tomato Flavor</td>\n",
              "      <td>Pack</td>\n",
              "      <td>Taiwan</td>\n",
              "      <td>2.75</td>\n",
              "      <td>NaN</td>\n",
              "    </tr>\n",
              "    <tr>\n",
              "      <th>2576</th>\n",
              "      <td>Ching's Secret</td>\n",
              "      <td>Singapore Curry</td>\n",
              "      <td>Pack</td>\n",
              "      <td>India</td>\n",
              "      <td>3.75</td>\n",
              "      <td>NaN</td>\n",
              "    </tr>\n",
              "  </tbody>\n",
              "</table>\n",
              "</div>"
            ],
            "text/plain": [
              "                   Brand  ... Top Ten\n",
              "Review #                  ...        \n",
              "2580           New Touch  ...     NaN\n",
              "2579            Just Way  ...     NaN\n",
              "2578              Nissin  ...     NaN\n",
              "2577             Wei Lih  ...     NaN\n",
              "2576      Ching's Secret  ...     NaN\n",
              "\n",
              "[5 rows x 6 columns]"
            ]
          },
          "metadata": {},
          "execution_count": 62
        }
      ]
    },
    {
      "cell_type": "code",
      "metadata": {
        "colab": {
          "base_uri": "https://localhost:8080/",
          "height": 450
        },
        "id": "vA2K0AevQc5K",
        "outputId": "e8f1cdd8-dc14-4db5-a370-f3bce3a2fa15"
      },
      "source": [
        "#Display only the rows where the brand is Nissin and the rating is above 3.5 (some data type conversion might be necessary)\n",
        "\n",
        "ramen.loc[(ramen.Rating >= '3.5') & (ramen.Brand == 'Nissin')]"
      ],
      "execution_count": null,
      "outputs": [
        {
          "output_type": "execute_result",
          "data": {
            "text/html": [
              "<div>\n",
              "<style scoped>\n",
              "    .dataframe tbody tr th:only-of-type {\n",
              "        vertical-align: middle;\n",
              "    }\n",
              "\n",
              "    .dataframe tbody tr th {\n",
              "        vertical-align: top;\n",
              "    }\n",
              "\n",
              "    .dataframe thead th {\n",
              "        text-align: right;\n",
              "    }\n",
              "</style>\n",
              "<table border=\"1\" class=\"dataframe\">\n",
              "  <thead>\n",
              "    <tr style=\"text-align: right;\">\n",
              "      <th></th>\n",
              "      <th>Brand</th>\n",
              "      <th>Variety</th>\n",
              "      <th>Style</th>\n",
              "      <th>Country</th>\n",
              "      <th>Rating</th>\n",
              "      <th>Top Ten</th>\n",
              "    </tr>\n",
              "    <tr>\n",
              "      <th>Review #</th>\n",
              "      <th></th>\n",
              "      <th></th>\n",
              "      <th></th>\n",
              "      <th></th>\n",
              "      <th></th>\n",
              "      <th></th>\n",
              "    </tr>\n",
              "  </thead>\n",
              "  <tbody>\n",
              "    <tr>\n",
              "      <th>2567</th>\n",
              "      <td>Nissin</td>\n",
              "      <td>Deka Buto Kimchi Pork Flavor</td>\n",
              "      <td>Bowl</td>\n",
              "      <td>Japan</td>\n",
              "      <td>4.5</td>\n",
              "      <td>NaN</td>\n",
              "    </tr>\n",
              "    <tr>\n",
              "      <th>2566</th>\n",
              "      <td>Nissin</td>\n",
              "      <td>Demae Ramen Bar Noodle Aka Tonkotsu Flavour In...</td>\n",
              "      <td>Pack</td>\n",
              "      <td>Hong Kong</td>\n",
              "      <td>5</td>\n",
              "      <td>NaN</td>\n",
              "    </tr>\n",
              "    <tr>\n",
              "      <th>2560</th>\n",
              "      <td>Nissin</td>\n",
              "      <td>Cup Noodles Laksa Flavour</td>\n",
              "      <td>Cup</td>\n",
              "      <td>Hong Kong</td>\n",
              "      <td>4.25</td>\n",
              "      <td>NaN</td>\n",
              "    </tr>\n",
              "    <tr>\n",
              "      <th>2553</th>\n",
              "      <td>Nissin</td>\n",
              "      <td>Hakata Ramen Noodle White Tonkotsu</td>\n",
              "      <td>Bowl</td>\n",
              "      <td>Japan</td>\n",
              "      <td>4.75</td>\n",
              "      <td>NaN</td>\n",
              "    </tr>\n",
              "    <tr>\n",
              "      <th>2549</th>\n",
              "      <td>Nissin</td>\n",
              "      <td>Gekikara Ramen Extra Hot Ramen Goreng</td>\n",
              "      <td>Pack</td>\n",
              "      <td>Indonesia</td>\n",
              "      <td>4.5</td>\n",
              "      <td>NaN</td>\n",
              "    </tr>\n",
              "    <tr>\n",
              "      <th>...</th>\n",
              "      <td>...</td>\n",
              "      <td>...</td>\n",
              "      <td>...</td>\n",
              "      <td>...</td>\n",
              "      <td>...</td>\n",
              "      <td>...</td>\n",
              "    </tr>\n",
              "    <tr>\n",
              "      <th>70</th>\n",
              "      <td>Nissin</td>\n",
              "      <td>Demae Ramen XO Sauce Seafood</td>\n",
              "      <td>Pack</td>\n",
              "      <td>Japan</td>\n",
              "      <td>4</td>\n",
              "      <td>NaN</td>\n",
              "    </tr>\n",
              "    <tr>\n",
              "      <th>28</th>\n",
              "      <td>Nissin</td>\n",
              "      <td>Chikin Ramen</td>\n",
              "      <td>Pack</td>\n",
              "      <td>Japan</td>\n",
              "      <td>5</td>\n",
              "      <td>NaN</td>\n",
              "    </tr>\n",
              "    <tr>\n",
              "      <th>27</th>\n",
              "      <td>Nissin</td>\n",
              "      <td>Demae Ramen Curry Flavor</td>\n",
              "      <td>Pack</td>\n",
              "      <td>Japan</td>\n",
              "      <td>4</td>\n",
              "      <td>NaN</td>\n",
              "    </tr>\n",
              "    <tr>\n",
              "      <th>26</th>\n",
              "      <td>Nissin</td>\n",
              "      <td>Soba Noodles With Mayo Mustard Squirt</td>\n",
              "      <td>Pack</td>\n",
              "      <td>Japan</td>\n",
              "      <td>4</td>\n",
              "      <td>NaN</td>\n",
              "    </tr>\n",
              "    <tr>\n",
              "      <th>23</th>\n",
              "      <td>Nissin</td>\n",
              "      <td>Top Ramen Creamy Chicken</td>\n",
              "      <td>Pack</td>\n",
              "      <td>USA</td>\n",
              "      <td>4.5</td>\n",
              "      <td>NaN</td>\n",
              "    </tr>\n",
              "  </tbody>\n",
              "</table>\n",
              "<p>305 rows × 6 columns</p>\n",
              "</div>"
            ],
            "text/plain": [
              "           Brand  ... Top Ten\n",
              "Review #          ...        \n",
              "2567      Nissin  ...     NaN\n",
              "2566      Nissin  ...     NaN\n",
              "2560      Nissin  ...     NaN\n",
              "2553      Nissin  ...     NaN\n",
              "2549      Nissin  ...     NaN\n",
              "...          ...  ...     ...\n",
              "70        Nissin  ...     NaN\n",
              "28        Nissin  ...     NaN\n",
              "27        Nissin  ...     NaN\n",
              "26        Nissin  ...     NaN\n",
              "23        Nissin  ...     NaN\n",
              "\n",
              "[305 rows x 6 columns]"
            ]
          },
          "metadata": {},
          "execution_count": 63
        }
      ]
    },
    {
      "cell_type": "code",
      "metadata": {
        "colab": {
          "base_uri": "https://localhost:8080/",
          "height": 450
        },
        "id": "saXgDV3hRBRZ",
        "outputId": "5690b59d-d7fd-4032-90c1-346ca8dc1260"
      },
      "source": [
        "#Group the ramen by brand and calculate the mean, max, and min values in a single output.\n",
        "\n",
        "ramen['Rating'] = pd.to_numeric(ramen['Rating'], errors = 'coerce')\n",
        "ramen.groupby(['Brand']).Rating.agg([np.mean, max, min])"
      ],
      "execution_count": null,
      "outputs": [
        {
          "output_type": "execute_result",
          "data": {
            "text/html": [
              "<div>\n",
              "<style scoped>\n",
              "    .dataframe tbody tr th:only-of-type {\n",
              "        vertical-align: middle;\n",
              "    }\n",
              "\n",
              "    .dataframe tbody tr th {\n",
              "        vertical-align: top;\n",
              "    }\n",
              "\n",
              "    .dataframe thead th {\n",
              "        text-align: right;\n",
              "    }\n",
              "</style>\n",
              "<table border=\"1\" class=\"dataframe\">\n",
              "  <thead>\n",
              "    <tr style=\"text-align: right;\">\n",
              "      <th></th>\n",
              "      <th>mean</th>\n",
              "      <th>max</th>\n",
              "      <th>min</th>\n",
              "    </tr>\n",
              "    <tr>\n",
              "      <th>Brand</th>\n",
              "      <th></th>\n",
              "      <th></th>\n",
              "      <th></th>\n",
              "    </tr>\n",
              "  </thead>\n",
              "  <tbody>\n",
              "    <tr>\n",
              "      <th>1 To 3 Noodles</th>\n",
              "      <td>4.000000</td>\n",
              "      <td>4.00</td>\n",
              "      <td>4.00</td>\n",
              "    </tr>\n",
              "    <tr>\n",
              "      <th>7 Select</th>\n",
              "      <td>3.750000</td>\n",
              "      <td>4.00</td>\n",
              "      <td>3.50</td>\n",
              "    </tr>\n",
              "    <tr>\n",
              "      <th>7 Select/Nissin</th>\n",
              "      <td>3.500000</td>\n",
              "      <td>3.50</td>\n",
              "      <td>3.50</td>\n",
              "    </tr>\n",
              "    <tr>\n",
              "      <th>A-One</th>\n",
              "      <td>2.750000</td>\n",
              "      <td>3.50</td>\n",
              "      <td>1.25</td>\n",
              "    </tr>\n",
              "    <tr>\n",
              "      <th>A-Sha Dry Noodle</th>\n",
              "      <td>4.067308</td>\n",
              "      <td>5.00</td>\n",
              "      <td>2.00</td>\n",
              "    </tr>\n",
              "    <tr>\n",
              "      <th>...</th>\n",
              "      <td>...</td>\n",
              "      <td>...</td>\n",
              "      <td>...</td>\n",
              "    </tr>\n",
              "    <tr>\n",
              "      <th>Yum Yum</th>\n",
              "      <td>3.750000</td>\n",
              "      <td>5.00</td>\n",
              "      <td>3.00</td>\n",
              "    </tr>\n",
              "    <tr>\n",
              "      <th>Yum-Mie</th>\n",
              "      <td>3.500000</td>\n",
              "      <td>3.50</td>\n",
              "      <td>3.50</td>\n",
              "    </tr>\n",
              "    <tr>\n",
              "      <th>Zow Zow</th>\n",
              "      <td>3.750000</td>\n",
              "      <td>3.75</td>\n",
              "      <td>3.75</td>\n",
              "    </tr>\n",
              "    <tr>\n",
              "      <th>iMee</th>\n",
              "      <td>3.500000</td>\n",
              "      <td>4.50</td>\n",
              "      <td>2.75</td>\n",
              "    </tr>\n",
              "    <tr>\n",
              "      <th>iNoodle</th>\n",
              "      <td>3.000000</td>\n",
              "      <td>3.75</td>\n",
              "      <td>2.25</td>\n",
              "    </tr>\n",
              "  </tbody>\n",
              "</table>\n",
              "<p>355 rows × 3 columns</p>\n",
              "</div>"
            ],
            "text/plain": [
              "                      mean   max   min\n",
              "Brand                                 \n",
              "1 To 3 Noodles    4.000000  4.00  4.00\n",
              "7 Select          3.750000  4.00  3.50\n",
              "7 Select/Nissin   3.500000  3.50  3.50\n",
              "A-One             2.750000  3.50  1.25\n",
              "A-Sha Dry Noodle  4.067308  5.00  2.00\n",
              "...                    ...   ...   ...\n",
              "Yum Yum           3.750000  5.00  3.00\n",
              "Yum-Mie           3.500000  3.50  3.50\n",
              "Zow Zow           3.750000  3.75  3.75\n",
              "iMee              3.500000  4.50  2.75\n",
              "iNoodle           3.000000  3.75  2.25\n",
              "\n",
              "[355 rows x 3 columns]"
            ]
          },
          "metadata": {},
          "execution_count": 64
        }
      ]
    },
    {
      "cell_type": "code",
      "metadata": {
        "colab": {
          "base_uri": "https://localhost:8080/"
        },
        "id": "VGgkiOzTVru-",
        "outputId": "04aa968f-d137-4a9f-ab15-99f8a063fb16"
      },
      "source": [
        "#What is the mode rating for all ramen?\n",
        "\n",
        "ramen.Rating.mode()"
      ],
      "execution_count": null,
      "outputs": [
        {
          "output_type": "execute_result",
          "data": {
            "text/plain": [
              "0    4.0\n",
              "dtype: float64"
            ]
          },
          "metadata": {},
          "execution_count": 65
        }
      ]
    },
    {
      "cell_type": "code",
      "metadata": {
        "colab": {
          "base_uri": "https://localhost:8080/",
          "height": 450
        },
        "id": "LXkQrK3LbVbp",
        "outputId": "e01c6a06-6dae-4b2e-9a5f-1c2f3f26ce4b"
      },
      "source": [
        "#Groupby brand and variety. Can you figure out a way to display this information in descending order (highest to lowest)? #Which has the highest average?\n",
        "\n",
        "ramen2 = ramen.groupby(['Brand', 'Variety']).Rating.agg([np.mean])\n",
        "ramen2.sort_values(by = 'mean', ascending = False)"
      ],
      "execution_count": null,
      "outputs": [
        {
          "output_type": "execute_result",
          "data": {
            "text/html": [
              "<div>\n",
              "<style scoped>\n",
              "    .dataframe tbody tr th:only-of-type {\n",
              "        vertical-align: middle;\n",
              "    }\n",
              "\n",
              "    .dataframe tbody tr th {\n",
              "        vertical-align: top;\n",
              "    }\n",
              "\n",
              "    .dataframe thead th {\n",
              "        text-align: right;\n",
              "    }\n",
              "</style>\n",
              "<table border=\"1\" class=\"dataframe\">\n",
              "  <thead>\n",
              "    <tr style=\"text-align: right;\">\n",
              "      <th></th>\n",
              "      <th></th>\n",
              "      <th>mean</th>\n",
              "    </tr>\n",
              "    <tr>\n",
              "      <th>Brand</th>\n",
              "      <th>Variety</th>\n",
              "      <th></th>\n",
              "    </tr>\n",
              "  </thead>\n",
              "  <tbody>\n",
              "    <tr>\n",
              "      <th>Indomie</th>\n",
              "      <th>Mi Goreng Jumbo Beef</th>\n",
              "      <td>5.0</td>\n",
              "    </tr>\n",
              "    <tr>\n",
              "      <th>Sun Noodle</th>\n",
              "      <th>Ramen Miso Flavor</th>\n",
              "      <td>5.0</td>\n",
              "    </tr>\n",
              "    <tr>\n",
              "      <th>Samyang Foods</th>\n",
              "      <th>Nagasaki Crab Jjampong</th>\n",
              "      <td>5.0</td>\n",
              "    </tr>\n",
              "    <tr>\n",
              "      <th>Dream Kitchen</th>\n",
              "      <th>Curry Flavour Instant Noodles</th>\n",
              "      <td>5.0</td>\n",
              "    </tr>\n",
              "    <tr>\n",
              "      <th>Nissin</th>\n",
              "      <th>Raoh Rich Miso Flavor</th>\n",
              "      <td>5.0</td>\n",
              "    </tr>\n",
              "    <tr>\n",
              "      <th>...</th>\n",
              "      <th>...</th>\n",
              "      <td>...</td>\n",
              "    </tr>\n",
              "    <tr>\n",
              "      <th>Samyang Foods</th>\n",
              "      <th>Honey &amp; Cheese Big Bowl</th>\n",
              "      <td>0.0</td>\n",
              "    </tr>\n",
              "    <tr>\n",
              "      <th>Uni-President</th>\n",
              "      <th>Mushroom Flavor</th>\n",
              "      <td>0.0</td>\n",
              "    </tr>\n",
              "    <tr>\n",
              "      <th>Mi E-Zee</th>\n",
              "      <th>Plain Noodles</th>\n",
              "      <td>NaN</td>\n",
              "    </tr>\n",
              "    <tr>\n",
              "      <th>Ottogi</th>\n",
              "      <th>Plain Instant Noodle No Soup Included</th>\n",
              "      <td>NaN</td>\n",
              "    </tr>\n",
              "    <tr>\n",
              "      <th>Samyang Foods</th>\n",
              "      <th>Sari Ramen</th>\n",
              "      <td>NaN</td>\n",
              "    </tr>\n",
              "  </tbody>\n",
              "</table>\n",
              "<p>2520 rows × 1 columns</p>\n",
              "</div>"
            ],
            "text/plain": [
              "                                                     mean\n",
              "Brand         Variety                                    \n",
              "Indomie       Mi Goreng Jumbo Beef                    5.0\n",
              "Sun Noodle    Ramen Miso Flavor                       5.0\n",
              "Samyang Foods Nagasaki Crab Jjampong                  5.0\n",
              "Dream Kitchen Curry Flavour Instant Noodles           5.0\n",
              "Nissin        Raoh Rich Miso Flavor                   5.0\n",
              "...                                                   ...\n",
              "Samyang Foods Honey & Cheese Big Bowl                 0.0\n",
              "Uni-President Mushroom Flavor                         0.0\n",
              "Mi E-Zee      Plain Noodles                           NaN\n",
              "Ottogi        Plain Instant Noodle No Soup Included   NaN\n",
              "Samyang Foods Sari Ramen                              NaN\n",
              "\n",
              "[2520 rows x 1 columns]"
            ]
          },
          "metadata": {},
          "execution_count": 71
        }
      ]
    },
    {
      "cell_type": "code",
      "metadata": {
        "colab": {
          "base_uri": "https://localhost:8080/"
        },
        "id": "0JO7PzeQCjrQ",
        "outputId": "ac12e4c5-7fc3-4693-ade1-e6726118bb31"
      },
      "source": [
        "#How many different brands of ramen are included in the dataset?\n",
        "\n",
        "ramen.Brand.value_counts()"
      ],
      "execution_count": null,
      "outputs": [
        {
          "output_type": "execute_result",
          "data": {
            "text/plain": [
              "Nissin           381\n",
              "Nongshim          98\n",
              "Maruchan          76\n",
              "Mama              71\n",
              "Paldo             66\n",
              "                ... \n",
              "Plats Du Chef      1\n",
              "Kim Ve Wong        1\n",
              "Pamana             1\n",
              "Lipton             1\n",
              "Sunlight           1\n",
              "Name: Brand, Length: 355, dtype: int64"
            ]
          },
          "metadata": {},
          "execution_count": 67
        }
      ]
    }
  ]
}